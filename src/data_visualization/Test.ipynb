{
 "cells": [
  {
   "cell_type": "code",
   "metadata": {
    "collapsed": true,
    "ExecuteTime": {
     "end_time": "2025-04-12T15:17:50.649102Z",
     "start_time": "2025-04-12T15:17:50.559894Z"
    }
   },
   "source": [
    "\n",
    "val authors_frequency = mutableMapOf<String, Int>()\n",
    "authors_frequency[\"hola\"] = authors_frequency[\"hola\"]?: 0 + 1\n",
    "authors_frequency"
   ],
   "outputs": [
    {
     "data": {
      "text/plain": [
       "{hola=1}"
      ]
     },
     "execution_count": 6,
     "metadata": {},
     "output_type": "execute_result"
    }
   ],
   "execution_count": 6
  }
 ],
 "metadata": {
  "kernelspec": {
   "display_name": "Kotlin",
   "language": "kotlin",
   "name": "kotlin"
  },
  "language_info": {
   "name": "kotlin",
   "version": "1.9.23",
   "mimetype": "text/x-kotlin",
   "file_extension": ".kt",
   "pygments_lexer": "kotlin",
   "codemirror_mode": "text/x-kotlin",
   "nbconvert_exporter": ""
  }
 },
 "nbformat": 4,
 "nbformat_minor": 0
}
